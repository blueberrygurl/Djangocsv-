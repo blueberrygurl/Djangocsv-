{
 "cells": [
  {
   "cell_type": "markdown",
   "id": "a9db9463-048b-4e0e-bff6-6b3ec4169a7e",
   "metadata": {},
   "source": [
    "# Titanic Dataset"
   ]
  },
  {
   "cell_type": "markdown",
   "id": "f3256754-4969-49b6-99f8-7b941606aa12",
   "metadata": {},
   "source": [
    "### Importation des bibliothèques nécessaires et chargement du dataset"
   ]
  },
  {
   "cell_type": "code",
   "execution_count": 29,
   "id": "e1684eb7-8301-48b8-abf6-61e345a6f341",
   "metadata": {},
   "outputs": [
    {
     "data": {
      "text/html": [
       "<div>\n",
       "<style scoped>\n",
       "    .dataframe tbody tr th:only-of-type {\n",
       "        vertical-align: middle;\n",
       "    }\n",
       "\n",
       "    .dataframe tbody tr th {\n",
       "        vertical-align: top;\n",
       "    }\n",
       "\n",
       "    .dataframe thead th {\n",
       "        text-align: right;\n",
       "    }\n",
       "</style>\n",
       "<table border=\"1\" class=\"dataframe\">\n",
       "  <thead>\n",
       "    <tr style=\"text-align: right;\">\n",
       "      <th></th>\n",
       "      <th>PassengerId</th>\n",
       "      <th>Survived</th>\n",
       "      <th>Pclass</th>\n",
       "      <th>Name</th>\n",
       "      <th>Sex</th>\n",
       "      <th>Age</th>\n",
       "      <th>SibSp</th>\n",
       "      <th>Parch</th>\n",
       "      <th>Ticket</th>\n",
       "      <th>Fare</th>\n",
       "      <th>Cabin</th>\n",
       "      <th>Embarked</th>\n",
       "    </tr>\n",
       "  </thead>\n",
       "  <tbody>\n",
       "    <tr>\n",
       "      <th>0</th>\n",
       "      <td>1</td>\n",
       "      <td>0</td>\n",
       "      <td>3</td>\n",
       "      <td>Braund, Mr. Owen Harris</td>\n",
       "      <td>male</td>\n",
       "      <td>22.0</td>\n",
       "      <td>1</td>\n",
       "      <td>0</td>\n",
       "      <td>A/5 21171</td>\n",
       "      <td>7.2500</td>\n",
       "      <td>NaN</td>\n",
       "      <td>S</td>\n",
       "    </tr>\n",
       "    <tr>\n",
       "      <th>1</th>\n",
       "      <td>2</td>\n",
       "      <td>1</td>\n",
       "      <td>1</td>\n",
       "      <td>Cumings, Mrs. John Bradley (Florence Briggs Th...</td>\n",
       "      <td>female</td>\n",
       "      <td>38.0</td>\n",
       "      <td>1</td>\n",
       "      <td>0</td>\n",
       "      <td>PC 17599</td>\n",
       "      <td>71.2833</td>\n",
       "      <td>C85</td>\n",
       "      <td>C</td>\n",
       "    </tr>\n",
       "    <tr>\n",
       "      <th>2</th>\n",
       "      <td>3</td>\n",
       "      <td>1</td>\n",
       "      <td>3</td>\n",
       "      <td>Heikkinen, Miss. Laina</td>\n",
       "      <td>female</td>\n",
       "      <td>26.0</td>\n",
       "      <td>0</td>\n",
       "      <td>0</td>\n",
       "      <td>STON/O2. 3101282</td>\n",
       "      <td>7.9250</td>\n",
       "      <td>NaN</td>\n",
       "      <td>S</td>\n",
       "    </tr>\n",
       "    <tr>\n",
       "      <th>3</th>\n",
       "      <td>4</td>\n",
       "      <td>1</td>\n",
       "      <td>1</td>\n",
       "      <td>Futrelle, Mrs. Jacques Heath (Lily May Peel)</td>\n",
       "      <td>female</td>\n",
       "      <td>35.0</td>\n",
       "      <td>1</td>\n",
       "      <td>0</td>\n",
       "      <td>113803</td>\n",
       "      <td>53.1000</td>\n",
       "      <td>C123</td>\n",
       "      <td>S</td>\n",
       "    </tr>\n",
       "    <tr>\n",
       "      <th>4</th>\n",
       "      <td>5</td>\n",
       "      <td>0</td>\n",
       "      <td>3</td>\n",
       "      <td>Allen, Mr. William Henry</td>\n",
       "      <td>male</td>\n",
       "      <td>35.0</td>\n",
       "      <td>0</td>\n",
       "      <td>0</td>\n",
       "      <td>373450</td>\n",
       "      <td>8.0500</td>\n",
       "      <td>NaN</td>\n",
       "      <td>S</td>\n",
       "    </tr>\n",
       "  </tbody>\n",
       "</table>\n",
       "</div>"
      ],
      "text/plain": [
       "   PassengerId  Survived  Pclass  \\\n",
       "0            1         0       3   \n",
       "1            2         1       1   \n",
       "2            3         1       3   \n",
       "3            4         1       1   \n",
       "4            5         0       3   \n",
       "\n",
       "                                                Name     Sex   Age  SibSp  \\\n",
       "0                            Braund, Mr. Owen Harris    male  22.0      1   \n",
       "1  Cumings, Mrs. John Bradley (Florence Briggs Th...  female  38.0      1   \n",
       "2                             Heikkinen, Miss. Laina  female  26.0      0   \n",
       "3       Futrelle, Mrs. Jacques Heath (Lily May Peel)  female  35.0      1   \n",
       "4                           Allen, Mr. William Henry    male  35.0      0   \n",
       "\n",
       "   Parch            Ticket     Fare Cabin Embarked  \n",
       "0      0         A/5 21171   7.2500   NaN        S  \n",
       "1      0          PC 17599  71.2833   C85        C  \n",
       "2      0  STON/O2. 3101282   7.9250   NaN        S  \n",
       "3      0            113803  53.1000  C123        S  \n",
       "4      0            373450   8.0500   NaN        S  "
      ]
     },
     "execution_count": 29,
     "metadata": {},
     "output_type": "execute_result"
    }
   ],
   "source": [
    "import pandas as pd\n",
    "import numpy as np\n",
    "import matplotlib.pyplot as plt\n",
    "import seaborn as sns\n",
    "from sklearn.model_selection import train_test_split\n",
    "from sklearn.preprocessing import StandardScaler, LabelEncoder, OneHotEncoder\n",
    "from sklearn.decomposition import PCA\n",
    "\n",
    "# Charger le dataset Titanic\n",
    "df = pd.read_csv('train.csv')  \n",
    "df.head()\n"
   ]
  },
  {
   "cell_type": "markdown",
   "id": "8d1de285-fa87-42a6-8e5b-78290eace915",
   "metadata": {},
   "source": [
    "## Nettoyage des données\n",
    "### 1.Identification des colonnes avec valeurs manquantes et gestion de celles-ci :"
   ]
  },
  {
   "cell_type": "code",
   "execution_count": 33,
   "id": "4a796f4d-740e-4e95-b57d-76ce9570ebbe",
   "metadata": {},
   "outputs": [
    {
     "name": "stdout",
     "output_type": "stream",
     "text": [
      "Missing values before handling:\n",
      " PassengerId    0\n",
      "Survived       0\n",
      "Pclass         0\n",
      "Name           0\n",
      "Sex            0\n",
      "Age            0\n",
      "SibSp          0\n",
      "Parch          0\n",
      "Ticket         0\n",
      "Fare           0\n",
      "Cabin          0\n",
      "Embarked       0\n",
      "dtype: int64\n",
      "Missing values after handling:\n",
      " PassengerId    0\n",
      "Survived       0\n",
      "Pclass         0\n",
      "Name           0\n",
      "Sex            0\n",
      "Age            0\n",
      "SibSp          0\n",
      "Parch          0\n",
      "Ticket         0\n",
      "Fare           0\n",
      "Cabin          0\n",
      "Embarked       0\n",
      "dtype: int64\n"
     ]
    }
   ],
   "source": [
    "# Vérification des valeurs manquantes initiales\n",
    "print(\"Missing values before handling:\\n\", df.isnull().sum())\n",
    "\n",
    "# Traitement des colonnes\n",
    "df['Age'] = df['Age'].fillna(df['Age'].median())\n",
    "df['Cabin'] = df['Cabin'].fillna('Unknown')\n",
    "df['Embarked'] = df['Embarked'].fillna(df['Embarked'].mode()[0])\n",
    "\n",
    "# Vérification après nettoyage\n",
    "print(\"Missing values after handling:\\n\", df.isnull().sum())\n"
   ]
  },
  {
   "cell_type": "markdown",
   "id": "eb42e547-18a7-4d0f-807a-ccd582de9bc2",
   "metadata": {},
   "source": [
    "### 2.Détection et gestion des doublons"
   ]
  },
  {
   "cell_type": "code",
   "execution_count": 38,
   "id": "ea9c88de-cc57-4ce1-ac3b-e97599eda6b8",
   "metadata": {},
   "outputs": [
    {
     "name": "stdout",
     "output_type": "stream",
     "text": [
      "Duplicate rows: 0\n"
     ]
    }
   ],
   "source": [
    "# Vérifier les doublons\n",
    "print(\"Duplicate rows:\", df.duplicated().sum())\n",
    "df.drop_duplicates(inplace=True)  # Supprimer les doublons\n"
   ]
  },
  {
   "cell_type": "markdown",
   "id": "ac5e6b8c-6bd6-4b46-9f8e-2462c01b8693",
   "metadata": {},
   "source": [
    "### 3.Gestion des outliers dans la colonne 'Fare'"
   ]
  },
  {
   "cell_type": "code",
   "execution_count": 42,
   "id": "2db319f9-7a05-4880-a4d7-ae6f7eb3afc2",
   "metadata": {},
   "outputs": [],
   "source": [
    "# Détection des outliers avec la méthode IQR\n",
    "Q1 = df['Fare'].quantile(0.25)\n",
    "Q3 = df['Fare'].quantile(0.75)\n",
    "IQR = Q3 - Q1\n",
    "lower_bound = Q1 - 1.5 * IQR\n",
    "upper_bound = Q3 + 1.5 * IQR\n",
    "\n",
    "# Filtrer les outliers\n",
    "df['Fare'] = np.where(df['Fare'] > upper_bound, upper_bound, df['Fare'])\n"
   ]
  },
  {
   "cell_type": "markdown",
   "id": "47ccea56-d81a-4e8b-a00b-d464e041745b",
   "metadata": {},
   "source": [
    "## Feature Engineering\n",
    "### 4.Création de nouvelles colonnes FamilySize et IsAlone"
   ]
  },
  {
   "cell_type": "code",
   "execution_count": 45,
   "id": "0cba3d9e-ae6d-4588-834a-642d0a89007f",
   "metadata": {},
   "outputs": [],
   "source": [
    "# FamilySize = SibSp + Parch + 1 (le passager lui-même)\n",
    "df['FamilySize'] = df['SibSp'] + df['Parch'] + 1\n",
    "\n",
    "# IsAlone : 1 si FamilySize == 1, sinon 0\n",
    "df['IsAlone'] = (df['FamilySize'] == 1).astype(int)\n"
   ]
  },
  {
   "cell_type": "markdown",
   "id": "b1e72533-5e58-4959-8162-71605dc36acd",
   "metadata": {},
   "source": [
    "### 5.Extraction des titres à partir des noms"
   ]
  },
  {
   "cell_type": "code",
   "execution_count": 52,
   "id": "10717d8b-6cd0-45cb-9de6-d166c2773bf3",
   "metadata": {},
   "outputs": [
    {
     "name": "stdout",
     "output_type": "stream",
     "text": [
      "Title\n",
      "Mr          517\n",
      "Miss        182\n",
      "Mrs         125\n",
      "Master       40\n",
      "Dr            7\n",
      "Rev           6\n",
      "Mlle          2\n",
      "Major         2\n",
      "Col           2\n",
      "Countess      1\n",
      "Capt          1\n",
      "Ms            1\n",
      "Sir           1\n",
      "Lady          1\n",
      "Mme           1\n",
      "Don           1\n",
      "Jonkheer      1\n",
      "Name: count, dtype: int64\n"
     ]
    }
   ],
   "source": [
    "# Extraire le titre\n",
    "df['Title'] = df['Name'].str.extract(r' ([A-Za-z]+)\\.', expand=False)\n",
    "\n",
    "print(df['Title'].value_counts())\n"
   ]
  },
  {
   "cell_type": "markdown",
   "id": "a80df715-566d-4c8e-a76d-c2f6cc72740e",
   "metadata": {},
   "source": [
    "## Encodage des variables catégoriques\n",
    "### 7.Encodage des colonnes Sex et Embarked\n"
   ]
  },
  {
   "cell_type": "code",
   "execution_count": 54,
   "id": "e488cff1-bbde-41fd-9d9a-7901a9022088",
   "metadata": {},
   "outputs": [],
   "source": [
    "# One-hot encoding pour Embarked\n",
    "df = pd.get_dummies(df, columns=['Embarked'], drop_first=True)\n",
    "\n",
    "# Label encoding pour Sex\n",
    "le = LabelEncoder()\n",
    "df['Sex'] = le.fit_transform(df['Sex'])\n"
   ]
  },
  {
   "cell_type": "markdown",
   "id": "144139ef-51c2-42c5-8870-7a05ebff5dd9",
   "metadata": {},
   "source": [
    "## 8.Explication des méthodes d’encodage\n"
   ]
  },
  {
   "cell_type": "markdown",
   "id": "1765f767-5c65-4f0c-aa06-26533c8b8cc7",
   "metadata": {},
   "source": [
    "One-Hot Encoding : Utilisé pour les variables non ordinales.\n",
    "\n",
    "Label Encoding : Transforme les catégories en valeurs numériques.\n",
    "\n",
    "Ordinal Encoding : Pour les variables ayant une hiérarchie claire.\n",
    "\n",
    "Pour Embarked, One-Hot Encoding est préférable car les valeurs n'ont pas d'ordre.\n"
   ]
  },
  {
   "cell_type": "markdown",
   "id": "5083d103-9c38-40d2-9517-fa5535885b28",
   "metadata": {},
   "source": [
    "## Normalisation et Standardisation\n",
    "### 9.Standardisation des colonnes Fare et Age"
   ]
  },
  {
   "cell_type": "code",
   "execution_count": 64,
   "id": "a49a4d22-c07d-46b9-8458-40e4802d6ac8",
   "metadata": {},
   "outputs": [],
   "source": [
    "scaler = StandardScaler()\n",
    "df[['Fare', 'Age']] = scaler.fit_transform(df[['Fare', 'Age']])\n"
   ]
  },
  {
   "cell_type": "markdown",
   "id": "a6a02a1d-3617-413d-9071-8a9008aaecb7",
   "metadata": {},
   "source": [
    "### 10.Impact de la standardisation sur les distributions Utiliser un histogramme ou un diagramme de densité pour comparer avant et après :\n"
   ]
  },
  {
   "cell_type": "code",
   "execution_count": 135,
   "id": "b4daa1a9-e608-4607-b949-78bf8e0bb970",
   "metadata": {},
   "outputs": [
    {
     "data": {
      "image/png": "[encoded data removed]",
      "text/plain": [
       "<Figure size 640x480 with 1 Axes>"
      ]
     },
     "metadata": {},
     "output_type": "display_data"
    }
   ],
   "source": [
    "sns.histplot(df['Age'], kde=True,bins=20, color = 'darkblue')\n",
    "plt.title('Distribution of Age after Standardization')\n",
    "plt.show()\n"
   ]
  },
  {
   "cell_type": "markdown",
   "id": "239c99ab-dc81-4f76-806d-42ccbe759fee",
   "metadata": {},
   "source": [
    "## Réduction dimensionnelle (PCA)\n",
    "### 12.Application de PCA"
   ]
  },
  {
   "cell_type": "code",
   "execution_count": 119,
   "id": "ac147747-91e4-4a0f-ac34-dcd045498a09",
   "metadata": {},
   "outputs": [
    {
     "name": "stdout",
     "output_type": "stream",
     "text": [
      "Number of components chosen: 1\n"
     ]
    }
   ],
   "source": [
    "# Séparer les caractéristiques numériques pour PCA\n",
    "features = df.select_dtypes(include=[np.number]).drop(columns=['Survived'])\n",
    "\n",
    "# Application de PCA\n",
    "pca = PCA(n_components=0.95)  # Maintenir 95% de la variance\n",
    "features_pca = pca.fit_transform(features)\n",
    "print(\"Number of components chosen:\", pca.n_components_)\n"
   ]
  },
  {
   "cell_type": "markdown",
   "id": "4fd04faf-1440-4b3c-8f4e-19261d3a7fbd",
   "metadata": {},
   "source": [
    "## Division des données\n",
    "### 13.Division en jeu d’apprentissage et de test"
   ]
  },
  {
   "cell_type": "code",
   "execution_count": 90,
   "id": "63bc3d58-d609-40e5-b82f-a9f3e97cc2a4",
   "metadata": {},
   "outputs": [],
   "source": [
    "X = df.drop(columns=['Survived', 'Name', 'Ticket', 'Cabin'])  # Exclure des colonnes inutiles\n",
    "y = df['Survived']\n",
    "\n",
    "# Diviser en ensembles d'entraînement et de test\n",
    "X_train, X_test, y_train, y_test = train_test_split(X, y, test_size=0.2, random_state=42)\n"
   ]
  },
  {
   "cell_type": "markdown",
   "id": "abbbc652-c658-4b9b-9b2a-e14c09d1df7d",
   "metadata": {},
   "source": [
    "### 14.Gestion des données déséquilibrées\n",
    "Utiliser SMOTE ou ajuster les poids de classe dans le modèle."
   ]
  },
  {
   "cell_type": "markdown",
   "id": "17352cfe-8b93-4677-a6f5-8a3b402aa3cc",
   "metadata": {},
   "source": [
    "### 15.Différences entre Normalisation et Standardisation\n",
    "Normalisation : Mise à l’échelle des données entre 0 et 1.\n",
    "\n",
    "Standardisation : Centrage autour de 0 avec un écart type de 1."
   ]
  },
  {
   "cell_type": "markdown",
   "id": "3d8ae021-823b-413a-a2ab-abadbfdc4aaf",
   "metadata": {},
   "source": [
    "### 16. Comment gérer les données déséquilibrées ?\n",
    "Lorsque le nombre de survivants est beaucoup plus faible que celui des non-survivants, cela crée un déséquilibre dans les classes. Voici quelques techniques pour y faire face :\n",
    "\n",
    "#### Techniques de rééchantillonnage :\n",
    "\n",
    "Suréchantillonnage (Oversampling) : Augmenter le nombre d'échantillons de la classe minoritaire à l'aide de méthodes comme :\n",
    "\n",
    "SMOTE (Synthetic Minority Over-sampling Technique) : Génère des échantillons synthétiques pour la classe minoritaire.\n",
    "\n",
    "Suréchantillonnage aléatoire : Duplique les échantillons existants de la classe minoritaire.\n",
    "\n",
    "Sous-échantillonnage (Undersampling) : Réduire le nombre d'échantillons de la classe majoritaire pour équilibrer les classes.\n",
    "\n",
    "#### Ajustement des poids des classes :\n",
    "\n",
    "Attribuer des poids plus élevés à la classe minoritaire lors de l'entraînement du modèle (par exemple, en utilisant le paramètre class_weight='balanced' dans certains modèles comme RandomForestClassifier).\n",
    "\n",
    "Modèles de détection d'anomalies :\n",
    "\n",
    "Traiter la classe minoritaire comme une anomalie et utiliser des algorithmes de détection d'anomalies.\n",
    "\n",
    "#### Utilisation d'algorithmes avancés :\n",
    "\n",
    "Certains algorithmes comme XGBoost, LightGBM ou CatBoost gèrent bien les données déséquilibrées grâce à des mécanismes internes.\n",
    "\n",
    "#### Métriques d'évaluation :\n",
    "\n",
    "Utilisez des métriques telles que F1-Score, Précision-Rappel AUC, ou ROC AUC plutôt que l'exactitude, car l'exactitude peut être trompeuse avec des ensembles de données déséquilibrés.\n"
   ]
  },
  {
   "cell_type": "markdown",
   "id": "83182e63-90dd-4017-8282-fcaa5264db57",
   "metadata": {},
   "source": [
    "### 17.Pourquoi utiliser validation et cross-validation ?\n",
    "Validation : Évaluer la performance sur un échantillon séparé.\n",
    "\n",
    "Cross-validation : Réduire la variance et mieux évaluer la généralisation du modèle.\n"
   ]
  },
  {
   "cell_type": "markdown",
   "id": "4f952a60-8db3-4a6e-86f1-092a54230597",
   "metadata": {},
   "source": [
    "### 18. Pourquoi utilisons-nous la validation et la validation croisée ?\n",
    "#### Validation\n",
    "##### Objectif :\n",
    "\n",
    "Évaluer la performance du modèle sur des données non vues pour vérifier s'il y a surapprentissage (overfitting) ou sous-apprentissage (underfitting).\n",
    "\n",
    "##### Processus :\n",
    "\n",
    "Divisez le dataset en un ensemble d'entraînement et un ensemble de validation (par exemple, 80% pour l'entraînement et 20% pour la validation).\n",
    "\n",
    "##### Inconvénient :\n",
    "\n",
    "Un seul échantillon de validation peut ne pas être représentatif de l'ensemble des données.\n",
    "\n",
    "#### Validation Croisée\n",
    "\n",
    "##### Objectif :\n",
    "\n",
    "Fournir une évaluation plus fiable en testant le modèle sur plusieurs sous-ensembles du dataset.\n",
    "\n",
    "##### Types :\n",
    "\n",
    "##### K-fold Cross-Validation :\n",
    "Divise les données en \n",
    "𝑘\n",
    "k sous-ensembles. Le modèle est entraîné sur \n",
    "𝑘\n",
    "−\n",
    "1\n",
    "k−1 sous-ensembles et testé sur le restant. Répétez \n",
    "𝑘\n",
    "k fois.\n",
    "\n",
    "##### Stratified K-fold :\n",
    "Semblable à K-fold, mais assure que les proportions des classes sont respectées dans chaque sous-ensemble.\n",
    "\n",
    "##### Leave-One-Out Cross-Validation (LOOCV) :\n",
    "\n",
    "Chaque échantillon est utilisé une fois comme ensemble de test, les autres étant utilisés pour l'entraînement.\n",
    "\n",
    "#### Avantages :\n",
    "Réduit la variance dans l'évaluation du modèle en le testant sur plusieurs sous-ensembles.\n",
    "\n",
    "Permet de mieux utiliser les données disponibles par rapport à un simple split train-validation.\n"
   ]
  }
 ],
 "metadata": {
  "kernelspec": {
   "display_name": "Python 3 (ipykernel)",
   "language": "python",
   "name": "python3"
  },
  "language_info": {
   "codemirror_mode": {
    "name": "ipython",
    "version": 3
   },
   "file_extension": ".py",
   "mimetype": "text/x-python",
   "name": "python",
   "nbconvert_exporter": "python",
   "pygments_lexer": "ipython3",
   "version": "3.12.4"
  }
 },
 "nbformat": 4,
 "nbformat_minor": 5
}
